{
  "nbformat": 4,
  "nbformat_minor": 0,
  "metadata": {
    "colab": {
      "provenance": []
    },
    "kernelspec": {
      "name": "python3",
      "display_name": "Python 3"
    },
    "language_info": {
      "name": "python"
    }
  },
  "cells": [
    {
      "cell_type": "code",
      "execution_count": null,
      "metadata": {
        "id": "T8lbFsMY2mUI"
      },
      "outputs": [],
      "source": [
        "#URL: https://github.com/RobinMillford/HR-Analytics-Employee-Performance-Analysis/tree/main"
      ]
    },
    {
      "cell_type": "code",
      "source": [
        "import pandas as pd\n",
        "import seaborn as sns\n",
        "import matplotlib.pyplot as plt\n",
        "from google.colab import drive\n",
        "import warnings\n",
        "import seaborn as sns\n",
        "import numpy as np"
      ],
      "metadata": {
        "id": "-U_br0El45H1"
      },
      "execution_count": null,
      "outputs": []
    },
    {
      "cell_type": "code",
      "source": [
        "!pwd\n",
        "!ls\n",
        "drive.mount('/content/drive')\n",
        "%cd ..\n",
        "%cd /content/drive/MyDrive/ML-Datasets\n",
        "\n",
        "warnings.filterwarnings(\"ignore\")\n",
        "df = pd.read_csv('/content/drive/MyDrive/ML-Datasets/EmployeeDataset.csv')\n",
        "print(df.info())\n",
        "# df = df[0:10000]\n",
        "df.head(5)"
      ],
      "metadata": {
        "colab": {
          "base_uri": "https://localhost:8080/"
        },
        "id": "vYrdhb0M4doh",
        "outputId": "44f562c8-b9d0-40ee-e10b-31da6cbbbdf2"
      },
      "execution_count": null,
      "outputs": [
        {
          "metadata": {
            "tags": null
          },
          "name": "stdout",
          "output_type": "stream",
          "text": [
            "/content\n",
            "sample_data\n"
          ]
        }
      ]
    },
    {
      "cell_type": "code",
      "source": [
        "print(df.info())"
      ],
      "metadata": {
        "id": "z51zVwc8uJ4N"
      },
      "execution_count": null,
      "outputs": []
    },
    {
      "cell_type": "markdown",
      "source": [
        "Script to Unclean the data"
      ],
      "metadata": {
        "id": "bIx1U1P1WgjV"
      }
    },
    {
      "cell_type": "code",
      "source": [
        "import random\n",
        "\n",
        "for _ in range(10):\n",
        "    # Introduce outliers (replace with extreme values)\n",
        "    row = random.randint(0, len(df))\n",
        "    df.loc[row, 'length_of_service'] = random.choice([-99999, 99999])\n",
        "\n",
        "for _ in range(10):\n",
        "    # Introduce outliers (replace with extreme values)\n",
        "    row = random.randint(0, len(df))\n",
        "    df.loc[row, 'awards_won'] = random.choice([-99999, 99999])\n",
        "\n",
        "for _ in range(10):\n",
        "    # Introduce outliers (replace with extreme values)\n",
        "    row = random.randint(0, len(df))\n",
        "    df.loc[row, 'no_of_trainings'] = random.choice([-99999, 99999])\n",
        "\n",
        "for _ in range(10):\n",
        "    # Introduce outliers (replace with extreme values)\n",
        "    row = random.randint(0, len(df))\n",
        "    df.loc[row, 'avg_training_score'] = random.choice([-99999, 99999])\n",
        "\n",
        "df.loc[2100:4000, 'gender'] = df.loc[2100:4000, 'gender'].str.upper()\n"
      ],
      "metadata": {
        "id": "PEmWJ8pLWfj2"
      },
      "execution_count": null,
      "outputs": []
    },
    {
      "cell_type": "markdown",
      "source": [
        "Project Phase 1\n",
        "\n"
      ],
      "metadata": {
        "id": "-VmrifDDR64R"
      }
    },
    {
      "cell_type": "markdown",
      "source": [
        "Data Cleaning/Processing"
      ],
      "metadata": {
        "id": "kbW6epMTSl2a"
      }
    },
    {
      "cell_type": "code",
      "source": [],
      "metadata": {
        "id": "gnsXh4mm6G6n"
      },
      "execution_count": null,
      "outputs": []
    },
    {
      "cell_type": "markdown",
      "source": [
        "1. Handling Duplicates"
      ],
      "metadata": {
        "id": "YQc9F1cIt59a"
      }
    },
    {
      "cell_type": "code",
      "source": [
        "duplicates = df.duplicated()\n",
        "print(duplicates.sum())\n",
        "\n",
        "df = df.drop_duplicates()"
      ],
      "metadata": {
        "id": "J4XMWX8htqc1"
      },
      "execution_count": null,
      "outputs": []
    },
    {
      "cell_type": "markdown",
      "source": [
        "2. Handling Missing Values"
      ],
      "metadata": {
        "id": "5bN5icz5SoY7"
      }
    },
    {
      "cell_type": "code",
      "source": [
        "null_counts = df.isnull().sum()\n",
        "print(null_counts)\n",
        "print(df.shape)"
      ],
      "metadata": {
        "id": "6c5Sm4kV4drj"
      },
      "execution_count": null,
      "outputs": []
    },
    {
      "cell_type": "code",
      "source": [
        "df = df.dropna(axis=0)\n",
        "df = df.reset_index(drop=True)\n"
      ],
      "metadata": {
        "id": "YapmNrWp4dt6"
      },
      "execution_count": null,
      "outputs": []
    },
    {
      "cell_type": "code",
      "source": [
        "null_counts = df.isnull().sum()\n",
        "print(null_counts)\n",
        "print(df.shape)"
      ],
      "metadata": {
        "id": "fT_FOgZoToZg"
      },
      "execution_count": null,
      "outputs": []
    },
    {
      "cell_type": "markdown",
      "source": [
        "3. Text Data Cleaning"
      ],
      "metadata": {
        "id": "I4ue0wygrSaM"
      }
    },
    {
      "cell_type": "code",
      "source": [
        "df['gender'] = df['gender'].str.lower()\n",
        "df['department'] = df['department'].str.lower()\n",
        "df['region'] = df['region'].str.lower()\n",
        "df['recruitment_channel'] = df['recruitment_channel'].str.lower()\n",
        "df['education'] = df['education'].str.lower()"
      ],
      "metadata": {
        "id": "epSoG2PYrRmd"
      },
      "execution_count": null,
      "outputs": []
    },
    {
      "cell_type": "markdown",
      "source": [
        "4. Outlier Detection and Handling in Numerical Data\n"
      ],
      "metadata": {
        "id": "lub5ZxwpTy_n"
      }
    },
    {
      "cell_type": "code",
      "source": [
        "unique_values = df['avg_training_score'].unique()\n",
        "print(\"Column unique_values ___________________\")\n",
        "print(unique_values)\n",
        "\n",
        "unique_values = df['age'].unique()\n",
        "print(\"Column age _____________________________\")\n",
        "print(unique_values)\n",
        "\n",
        "unique_values = df['previous_year_rating'].unique()\n",
        "print(\"Column previous_year_rating ____________\")\n",
        "print(unique_values)\n",
        "\n",
        "unique_values = df['length_of_service'].unique()\n",
        "print(\"Column length_of_service _______________\")\n",
        "print(unique_values)\n",
        "\n",
        "unique_values = df['KPIs_met_more_than_80'].unique()\n",
        "print(\"Column KPIs_met_more_than_80 ___________\")\n",
        "print(unique_values)\n",
        "\n",
        "unique_values = df['awards_won'].unique()\n",
        "print(\"Column awards_won ______________________\")\n",
        "print(unique_values)\n",
        "\n",
        "unique_values = df['avg_training_score'].unique()\n",
        "print(\"Column avg_training_score ______________\")\n",
        "print(unique_values)\n",
        "\n",
        "unique_values = df['no_of_trainings'].unique()\n",
        "print(\"Column no_of_trainings ______________\")\n",
        "print(unique_values)"
      ],
      "metadata": {
        "id": "Wux96Vg_UAjl"
      },
      "execution_count": null,
      "outputs": []
    },
    {
      "cell_type": "code",
      "source": [
        "sns.boxplot(df['no_of_trainings'])\n",
        "# df['no_of_trainings']"
      ],
      "metadata": {
        "id": "DSUUptpgZROo"
      },
      "execution_count": null,
      "outputs": []
    },
    {
      "cell_type": "code",
      "source": [
        "# Column: avg_training_score\n",
        "k = 10  # Adjust the threshold multiplier as needed\n",
        "Q1 = df['length_of_service'].quantile(0.25)\n",
        "Q3 = df['length_of_service'].quantile(0.75)\n",
        "IQR = Q3 - Q1\n",
        "\n",
        "lower_bound = Q1 - k * IQR\n",
        "upper_bound = Q3 + k * IQR\n",
        "\n",
        "outliers = df[(df['length_of_service'] < lower_bound) | (df['length_of_service'] > upper_bound)]\n",
        "sns.boxplot(df['length_of_service'])\n",
        "print(\"Number of Outliers:\",len(outliers))\n",
        "df = df[~((df['length_of_service'] < lower_bound) | (df['length_of_service'] > upper_bound))]"
      ],
      "metadata": {
        "id": "7BpKCMXDX20b"
      },
      "execution_count": null,
      "outputs": []
    },
    {
      "cell_type": "code",
      "source": [
        "# Column: avg_training_score\n",
        "k = 1000  # Adjust the threshold multiplier as needed\n",
        "Q1 = df['avg_training_score'].quantile(0.25)\n",
        "Q3 = df['avg_training_score'].quantile(0.75)\n",
        "IQR = Q3 - Q1\n",
        "\n",
        "lower_bound = Q1 - k * IQR\n",
        "upper_bound = Q3 + k * IQR\n",
        "print(lower_bound, upper_bound)\n",
        "outliers = df[(df['avg_training_score'] < lower_bound) | (df['avg_training_score'] > upper_bound)]\n",
        "sns.boxplot(df['avg_training_score'])\n",
        "print(\"Number of Outliers:\",len(outliers))\n",
        "print(outliers.head)\n",
        "df = df[~((df['avg_training_score'] < lower_bound) | (df['avg_training_score'] > upper_bound))]"
      ],
      "metadata": {
        "id": "ABPTepy9aDqk"
      },
      "execution_count": null,
      "outputs": []
    },
    {
      "cell_type": "code",
      "source": [],
      "metadata": {
        "id": "cano4tt3cXQg"
      },
      "execution_count": null,
      "outputs": []
    },
    {
      "cell_type": "markdown",
      "source": [
        "5. Outlier Detection and Handling in Numerical Data with Categorical Values\n"
      ],
      "metadata": {
        "id": "0-gEVajzn1Dv"
      }
    },
    {
      "cell_type": "code",
      "source": [
        "unique_values = df['avg_training_score'].unique()\n",
        "print(\"Column avg_training_score ______________\")\n",
        "print(unique_values)\n",
        "\n",
        "unique_values = df['age'].unique()\n",
        "print(\"Column age _____________________________\")\n",
        "print(unique_values)\n",
        "\n",
        "unique_values = df['previous_year_rating'].unique()\n",
        "print(\"Column previous_year_rating ____________\")\n",
        "print(unique_values)\n",
        "\n",
        "unique_values = df['length_of_service'].unique()\n",
        "print(\"Column length_of_service _______________\")\n",
        "print(unique_values)\n",
        "\n",
        "unique_values = df['KPIs_met_more_than_80'].unique()\n",
        "print(\"Column KPIs_met_more_than_80 ___________\")\n",
        "print(unique_values)\n",
        "\n",
        "unique_values = df['awards_won'].unique()\n",
        "print(\"Column awards_won ______________________\")\n",
        "print(unique_values)\n",
        "\n",
        "unique_values = df['avg_training_score'].unique()\n",
        "print(\"Column avg_training_score ______________\")\n",
        "print(unique_values)\n",
        "\n",
        "unique_values = df['no_of_trainings'].unique()\n",
        "print(\"Column no_of_trainings ______________\")\n",
        "print(unique_values)"
      ],
      "metadata": {
        "id": "ZlzzXTYHoEjE"
      },
      "execution_count": null,
      "outputs": []
    },
    {
      "cell_type": "code",
      "source": [
        "df = df.query(f\"1 <= no_of_trainings <= 9\")\n",
        "df = df.query(f\"0 <= awards_won <= 1\")"
      ],
      "metadata": {
        "id": "SccQDz5IoJOT"
      },
      "execution_count": null,
      "outputs": []
    },
    {
      "cell_type": "code",
      "source": [],
      "metadata": {
        "id": "HmpNcqearWG0"
      },
      "execution_count": null,
      "outputs": []
    },
    {
      "cell_type": "markdown",
      "source": [
        "6. Categorical Data Handling"
      ],
      "metadata": {
        "id": "oE0y5K16rWrP"
      }
    },
    {
      "cell_type": "code",
      "source": [
        "unique_values = df['department'].unique()\n",
        "print(\"Column department ___________________\")\n",
        "print(unique_values)\n",
        "\n",
        "unique_values = df['region'].unique()\n",
        "print(\"Column region _______________________\")\n",
        "print(unique_values)\n",
        "\n",
        "unique_values = df['education'].unique()\n",
        "print(\"Column education ____________________\")\n",
        "print(unique_values)\n",
        "\n",
        "unique_values = df['recruitment_channel'].unique()\n",
        "print(\"Column recruitment_channel __________\")\n",
        "print(unique_values)\n",
        "\n",
        "unique_values = df['gender'].unique()\n",
        "print(\"Column gender _______________________\")\n",
        "print(unique_values)"
      ],
      "metadata": {
        "id": "3rsvCHa-rY_9"
      },
      "execution_count": null,
      "outputs": []
    },
    {
      "cell_type": "code",
      "source": [
        "department_map = {'hr':0, 'sales & marketing':1, 'procurement':2, 'finance':3, 'analytics':4, 'technology':5, 'operations':6, 'legal':7, 'r&d':8}\n",
        "region_map = {'region_4':4, 'region_13':13, 'region_2':2, 'region_29':29, 'region_7':7, 'region_22':22,\n",
        " 'region_16':16, 'region_17':17, 'region_24':24, 'region_11':11, 'region_27':27, 'region_9':9,\n",
        " 'region_20':20, 'region_34':34, 'region_23':23, 'region_8':8, 'region_14':14, 'region_26':26,\n",
        " 'region_31':31, 'region_19':19, 'region_28':28, 'region_15':15, 'region_3':3, 'region_25':25,\n",
        " 'region_12':12, 'region_30':30, 'region_10':10, 'region_33':33, 'region_32':32, 'region_5':5,\n",
        " 'region_6':6, 'region_21':21, 'region_1':1, 'region_18':18}\n",
        "education_map = {'bachelors':0, 'masters & above':1, 'below secondary':2}\n",
        "recruitment_channel_map = {'other':0, 'sourcing':1, 'referred':2}\n",
        "gender_map = {'f':0, 'm':1}\n",
        "\n",
        "\n",
        "df['gender'] = df['gender'].map(gender_map)\n",
        "df['region'] = df['region'].map(region_map)\n",
        "df['recruitment_channel'] = df['recruitment_channel'].map(recruitment_channel_map)\n",
        "df['department'] = df['department'].map(department_map)\n",
        "df['education'] = df['education'].map(education_map)\n"
      ],
      "metadata": {
        "id": "iq_xnMkiz22F"
      },
      "execution_count": null,
      "outputs": []
    },
    {
      "cell_type": "code",
      "source": [
        "df.sample(10)"
      ],
      "metadata": {
        "id": "1J4UMEGP5TSm"
      },
      "execution_count": null,
      "outputs": []
    },
    {
      "cell_type": "markdown",
      "source": [
        "7. DataType Conversion"
      ],
      "metadata": {
        "id": "Bwj4m5UC6eIj"
      }
    },
    {
      "cell_type": "code",
      "source": [
        "df.info()"
      ],
      "metadata": {
        "id": "9RbuUa3_6gi3"
      },
      "execution_count": null,
      "outputs": []
    },
    {
      "cell_type": "code",
      "source": [
        "df['avg_training_score'] = df['avg_training_score'].astype(float)\n"
      ],
      "metadata": {
        "id": "i37SdiQ06nQk"
      },
      "execution_count": null,
      "outputs": []
    },
    {
      "cell_type": "markdown",
      "source": [
        "8. Normalization and Scaling\n",
        "\n",
        "\n"
      ],
      "metadata": {
        "id": "eR7wD3-c5STm"
      }
    },
    {
      "cell_type": "code",
      "source": [
        "df['avg_training_score'] = (df['avg_training_score'] - df['avg_training_score'].min()) / (df['avg_training_score'].max() -  df['avg_training_score'].min())\n",
        "df['length_of_service'] = (df['length_of_service'] - df['length_of_service'].min()) / (df['length_of_service'].max() -  df['length_of_service'].min())\n",
        "# AGE\n",
        "# df['age'] = (df['age'] - df['age'].min()) / (df['age'].max() -  df['age'].min())\n"
      ],
      "metadata": {
        "id": "bNIqe1x95eU1"
      },
      "execution_count": null,
      "outputs": []
    },
    {
      "cell_type": "code",
      "source": [],
      "metadata": {
        "id": "ml_T6Caq6XZA"
      },
      "execution_count": null,
      "outputs": []
    },
    {
      "cell_type": "code",
      "source": [
        "df.sample(15)"
      ],
      "metadata": {
        "id": "m9S9ExwmWR2e"
      },
      "execution_count": null,
      "outputs": []
    },
    {
      "cell_type": "markdown",
      "source": [
        "9. Correlation of the columns"
      ],
      "metadata": {
        "id": "IHUVyqgL8-eS"
      }
    },
    {
      "cell_type": "code",
      "source": [
        "correlation_matrix = df.corr()\n",
        "sns.heatmap(correlation_matrix, annot=True, cmap='coolwarm')\n",
        "plt.title('Correlation Heatmap')\n",
        "plt.show()\n",
        "\n",
        "\n",
        "correlation_matrix = correlation_matrix.to_numpy()\n",
        "drop_columns = []\n",
        "for i in range(len(correlation_matrix)):\n",
        "  flag = 0\n",
        "  if i == 0 or i == 12: continue\n",
        "  for x in correlation_matrix[i]:\n",
        "    if int(x) == 1 or (x < 0.1 and x>-0.1):\n",
        "      continue\n",
        "    else:\n",
        "      flag = 1\n",
        "      break\n",
        "  if flag == 0:\n",
        "    print(\"Column:\",i, df.columns[i],\"to be removed\")\n",
        "    drop_columns.append(df.columns[i])\n",
        "\n",
        "df = df.drop(columns = drop_columns, axis=1)"
      ],
      "metadata": {
        "id": "18x4ihiK9B9Y"
      },
      "execution_count": null,
      "outputs": []
    },
    {
      "cell_type": "code",
      "source": [
        "df.sample(10)\n"
      ],
      "metadata": {
        "id": "92p7bqZA98Wb"
      },
      "execution_count": null,
      "outputs": []
    },
    {
      "cell_type": "markdown",
      "source": [
        "10.Feature Engineering"
      ],
      "metadata": {
        "id": "1e-1onUVU-aI"
      }
    },
    {
      "cell_type": "code",
      "source": [
        "mean_score = df['avg_training_score'].mean()\n",
        "\n",
        "df['rating'] = df['avg_training_score'].apply(lambda x: 'high' if x > mean_score else 'low')\n",
        "df.sample(15)"
      ],
      "metadata": {
        "id": "IisnoYf_F-Ws"
      },
      "execution_count": null,
      "outputs": []
    },
    {
      "cell_type": "markdown",
      "source": [
        "10."
      ],
      "metadata": {
        "id": "HbVGu1ex-PyV"
      }
    },
    {
      "cell_type": "code",
      "source": [],
      "metadata": {
        "id": "kjlrP14guZon"
      },
      "execution_count": null,
      "outputs": []
    },
    {
      "cell_type": "markdown",
      "source": [
        "EDA"
      ],
      "metadata": {
        "id": "TDz9lJfuu3_L"
      }
    },
    {
      "cell_type": "markdown",
      "source": [
        "Method 1"
      ],
      "metadata": {
        "id": "PArDsLbKvE-_"
      }
    },
    {
      "cell_type": "code",
      "source": [
        "df[\"department\"].unique()"
      ],
      "metadata": {
        "id": "AgwBB0f4u06W"
      },
      "execution_count": null,
      "outputs": []
    },
    {
      "cell_type": "code",
      "source": [
        "category_labels = ['sales & marketing', 'operations','procurement', 'technology','analytics', 'hr', 'finance', 'r&d', 'legal']\n",
        "\n",
        "department = df[\"department\"].value_counts().index\n",
        "print(department)\n",
        "department_cnt = df[\"department\"].value_counts().values"
      ],
      "metadata": {
        "id": "Mjw71N39vIGF"
      },
      "execution_count": null,
      "outputs": []
    },
    {
      "cell_type": "code",
      "source": [
        "plt.pie(department_cnt, labels = category_labels, autopct = '%1.2f%%')\n",
        "plt.legend(category_labels, title='Departments', loc='center left', bbox_to_anchor=(1.25, 0.5))\n",
        "plt.show()"
      ],
      "metadata": {
        "id": "c8bQRE-Aj1yH"
      },
      "execution_count": null,
      "outputs": []
    },
    {
      "cell_type": "markdown",
      "source": [
        "We can see that majority of the employees belong to the sales and marketing department and minority lies in the R&D and legal department"
      ],
      "metadata": {
        "id": "hT3ItnT80jca"
      }
    },
    {
      "cell_type": "markdown",
      "source": [
        "Method 2"
      ],
      "metadata": {
        "id": "MK6hAtTazrdU"
      }
    },
    {
      "cell_type": "code",
      "source": [
        "plt.figure(figsize=(8, 6))\n",
        "sns.histplot(df['age'], bins=20, kde=True)\n",
        "plt.title('Age Distribution')\n",
        "plt.xlabel('age')\n",
        "plt.ylabel('Frequency')\n",
        "plt.show()"
      ],
      "metadata": {
        "id": "iS1BLRu30iYy"
      },
      "execution_count": null,
      "outputs": []
    },
    {
      "cell_type": "markdown",
      "source": [
        "Method 3"
      ],
      "metadata": {
        "id": "5sNaoBs_zuks"
      }
    },
    {
      "cell_type": "code",
      "source": [
        "print(department)\n",
        "fig, ax = plt.subplots(figsize=(8, 6))\n",
        "sns.boxplot(x='department', y='age', data=df, ax=ax)\n",
        "#plt.xticks(list(department), list(category_labels))\n",
        "ax.set_xticklabels(category_labels)\n",
        "plt.title('Age Distribution by Department')\n",
        "plt.xlabel('Department')\n",
        "plt.ylabel('age')\n",
        "plt.xticks(rotation=90)\n",
        "plt.show()"
      ],
      "metadata": {
        "id": "-2M1apG20tx3"
      },
      "execution_count": null,
      "outputs": []
    },
    {
      "cell_type": "markdown",
      "source": [
        "Correlation Matrix (EDA Method already used in Data Cleaning)"
      ],
      "metadata": {
        "id": "ee9y_qBXzwPt"
      }
    },
    {
      "cell_type": "code",
      "source": [
        "correlation_matrix = df.corr()\n",
        "plt.figure(figsize=(8, 6))\n",
        "sns.heatmap(correlation_matrix, annot=True, cmap='coolwarm', linewidths=0.5)\n",
        "plt.title('Correlation Matrix')\n",
        "plt.show()"
      ],
      "metadata": {
        "id": "8J3UBU-L75Pv"
      },
      "execution_count": null,
      "outputs": []
    },
    {
      "cell_type": "markdown",
      "source": [
        "Method 4"
      ],
      "metadata": {
        "id": "CrLyJoWkzx9m"
      }
    },
    {
      "cell_type": "code",
      "source": [
        "sns.barplot(data=df, x='KPIs_met_more_than_80', y='awards_won')"
      ],
      "metadata": {
        "id": "fcqWQQrL8EY5"
      },
      "execution_count": null,
      "outputs": []
    },
    {
      "cell_type": "markdown",
      "source": [
        "Method 5"
      ],
      "metadata": {
        "id": "pZ8oFxYKz004"
      }
    },
    {
      "cell_type": "code",
      "source": [
        "fig, ax = plt.subplots(figsize=(10, 6))\n",
        "sns.countplot(data=df, x='education', hue='gender')\n",
        "education_labels=['bachelors','masters & above', 'below secondary']\n",
        "plt.legend(title='Gender', labels=['Female', 'Male'])\n",
        "ax.set_xticklabels(education_labels)\n",
        "plt.show()"
      ],
      "metadata": {
        "id": "wg-l_ra28HN1"
      },
      "execution_count": null,
      "outputs": []
    },
    {
      "cell_type": "markdown",
      "source": [
        "Method 6"
      ],
      "metadata": {
        "id": "mdJfpdA70AVp"
      }
    },
    {
      "cell_type": "code",
      "source": [
        "sns.histplot(data=df, x='length_of_service', bins=20)"
      ],
      "metadata": {
        "id": "ZgkdMNnn-gev"
      },
      "execution_count": null,
      "outputs": []
    },
    {
      "cell_type": "markdown",
      "source": [
        "Method 7"
      ],
      "metadata": {
        "id": "TGXOMiQi0BlU"
      }
    },
    {
      "cell_type": "code",
      "source": [
        "sns.barplot(data=df, x='previous_year_rating', y='avg_training_score')"
      ],
      "metadata": {
        "id": "eIgRKep5-oqe"
      },
      "execution_count": null,
      "outputs": []
    },
    {
      "cell_type": "markdown",
      "source": [
        "Method 8"
      ],
      "metadata": {
        "id": "d1tfDb6H0DDH"
      }
    },
    {
      "cell_type": "code",
      "source": [
        "sns.histplot(data=df, x='avg_training_score', kde=True)"
      ],
      "metadata": {
        "id": "uP0fB5v1_tyl"
      },
      "execution_count": null,
      "outputs": []
    },
    {
      "cell_type": "markdown",
      "source": [
        "Method 9"
      ],
      "metadata": {
        "id": "GMkZFtgA0Ez1"
      }
    },
    {
      "cell_type": "code",
      "source": [
        "ax = pd.crosstab(df['education'], [df['KPIs_met_more_than_80'], df['awards_won']]).plot(kind='bar', stacked=True)\n",
        "ax.set_xticklabels(education_labels)\n",
        "plt.show()"
      ],
      "metadata": {
        "id": "oyxkhYrE_zBb"
      },
      "execution_count": null,
      "outputs": []
    },
    {
      "cell_type": "markdown",
      "source": [
        "Method 10"
      ],
      "metadata": {
        "id": "IYuxb40g0GLn"
      }
    },
    {
      "cell_type": "code",
      "source": [
        "sns.countplot(data=df, x='rating')\n",
        "plt.title('Distribution of Employee Ratings')\n",
        "plt.xlabel('Rating Category')\n",
        "plt.ylabel('Count')\n",
        "plt.show()"
      ],
      "metadata": {
        "id": "FS8GUDPKVw9g"
      },
      "execution_count": null,
      "outputs": []
    }
  ]
}